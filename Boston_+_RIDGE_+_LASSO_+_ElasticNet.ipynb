{
  "nbformat": 4,
  "nbformat_minor": 0,
  "metadata": {
    "kernelspec": {
      "display_name": "Python 3",
      "language": "python",
      "name": "python3"
    },
    "language_info": {
      "codemirror_mode": {
        "name": "ipython",
        "version": 3
      },
      "file_extension": ".py",
      "mimetype": "text/x-python",
      "name": "python",
      "nbconvert_exporter": "python",
      "pygments_lexer": "ipython3",
      "version": "3.7.6"
    },
    "colab": {
      "name": "Boston + RIDGE + LASSO + ElasticNet.ipynb",
      "provenance": [],
      "collapsed_sections": []
    }
  },
  "cells": [
    {
      "cell_type": "code",
      "metadata": {
        "id": "3-84OF0o6-zJ"
      },
      "source": [
        "import pandas as pd"
      ],
      "execution_count": null,
      "outputs": []
    },
    {
      "cell_type": "code",
      "metadata": {
        "id": "KZFJuSCz6-zK"
      },
      "source": [
        "bt=pd.read_csv(\"boston.csv\")"
      ],
      "execution_count": null,
      "outputs": []
    },
    {
      "cell_type": "code",
      "metadata": {
        "id": "u8Szqtsu6-zK",
        "outputId": "f655e250-739b-4f13-b2a2-8be9b4045438"
      },
      "source": [
        "bt.head()"
      ],
      "execution_count": null,
      "outputs": [
        {
          "data": {
            "text/html": [
              "<div>\n",
              "<style scoped>\n",
              "    .dataframe tbody tr th:only-of-type {\n",
              "        vertical-align: middle;\n",
              "    }\n",
              "\n",
              "    .dataframe tbody tr th {\n",
              "        vertical-align: top;\n",
              "    }\n",
              "\n",
              "    .dataframe thead th {\n",
              "        text-align: right;\n",
              "    }\n",
              "</style>\n",
              "<table border=\"1\" class=\"dataframe\">\n",
              "  <thead>\n",
              "    <tr style=\"text-align: right;\">\n",
              "      <th></th>\n",
              "      <th>CRIM</th>\n",
              "      <th>ZN</th>\n",
              "      <th>INDUS</th>\n",
              "      <th>NOX</th>\n",
              "      <th>RM</th>\n",
              "      <th>AGE</th>\n",
              "      <th>DIS</th>\n",
              "      <th>RAD</th>\n",
              "      <th>TAX</th>\n",
              "      <th>PTRATIO</th>\n",
              "      <th>B</th>\n",
              "      <th>LSTAT</th>\n",
              "      <th>HOUSEPRICE</th>\n",
              "    </tr>\n",
              "  </thead>\n",
              "  <tbody>\n",
              "    <tr>\n",
              "      <th>0</th>\n",
              "      <td>0.00632</td>\n",
              "      <td>18.0</td>\n",
              "      <td>2.31</td>\n",
              "      <td>0.538</td>\n",
              "      <td>6.575</td>\n",
              "      <td>65.2</td>\n",
              "      <td>4.0900</td>\n",
              "      <td>1</td>\n",
              "      <td>296</td>\n",
              "      <td>15.3</td>\n",
              "      <td>396.90</td>\n",
              "      <td>4.98</td>\n",
              "      <td>24.0</td>\n",
              "    </tr>\n",
              "    <tr>\n",
              "      <th>1</th>\n",
              "      <td>0.02731</td>\n",
              "      <td>0.0</td>\n",
              "      <td>7.07</td>\n",
              "      <td>0.469</td>\n",
              "      <td>6.421</td>\n",
              "      <td>78.9</td>\n",
              "      <td>4.9671</td>\n",
              "      <td>2</td>\n",
              "      <td>242</td>\n",
              "      <td>17.8</td>\n",
              "      <td>396.90</td>\n",
              "      <td>9.14</td>\n",
              "      <td>21.6</td>\n",
              "    </tr>\n",
              "    <tr>\n",
              "      <th>2</th>\n",
              "      <td>0.02729</td>\n",
              "      <td>0.0</td>\n",
              "      <td>7.07</td>\n",
              "      <td>0.469</td>\n",
              "      <td>7.185</td>\n",
              "      <td>61.1</td>\n",
              "      <td>4.9671</td>\n",
              "      <td>2</td>\n",
              "      <td>242</td>\n",
              "      <td>17.8</td>\n",
              "      <td>392.83</td>\n",
              "      <td>4.03</td>\n",
              "      <td>34.7</td>\n",
              "    </tr>\n",
              "    <tr>\n",
              "      <th>3</th>\n",
              "      <td>0.03237</td>\n",
              "      <td>0.0</td>\n",
              "      <td>2.18</td>\n",
              "      <td>0.458</td>\n",
              "      <td>6.998</td>\n",
              "      <td>45.8</td>\n",
              "      <td>6.0622</td>\n",
              "      <td>3</td>\n",
              "      <td>222</td>\n",
              "      <td>18.7</td>\n",
              "      <td>394.63</td>\n",
              "      <td>2.94</td>\n",
              "      <td>33.4</td>\n",
              "    </tr>\n",
              "    <tr>\n",
              "      <th>4</th>\n",
              "      <td>0.06905</td>\n",
              "      <td>0.0</td>\n",
              "      <td>2.18</td>\n",
              "      <td>0.458</td>\n",
              "      <td>7.147</td>\n",
              "      <td>54.2</td>\n",
              "      <td>6.0622</td>\n",
              "      <td>3</td>\n",
              "      <td>222</td>\n",
              "      <td>18.7</td>\n",
              "      <td>396.90</td>\n",
              "      <td>5.33</td>\n",
              "      <td>36.2</td>\n",
              "    </tr>\n",
              "  </tbody>\n",
              "</table>\n",
              "</div>"
            ],
            "text/plain": [
              "      CRIM    ZN  INDUS    NOX     RM   AGE     DIS  RAD  TAX  PTRATIO  \\\n",
              "0  0.00632  18.0   2.31  0.538  6.575  65.2  4.0900    1  296     15.3   \n",
              "1  0.02731   0.0   7.07  0.469  6.421  78.9  4.9671    2  242     17.8   \n",
              "2  0.02729   0.0   7.07  0.469  7.185  61.1  4.9671    2  242     17.8   \n",
              "3  0.03237   0.0   2.18  0.458  6.998  45.8  6.0622    3  222     18.7   \n",
              "4  0.06905   0.0   2.18  0.458  7.147  54.2  6.0622    3  222     18.7   \n",
              "\n",
              "        B  LSTAT  HOUSEPRICE  \n",
              "0  396.90   4.98        24.0  \n",
              "1  396.90   9.14        21.6  \n",
              "2  392.83   4.03        34.7  \n",
              "3  394.63   2.94        33.4  \n",
              "4  396.90   5.33        36.2  "
            ]
          },
          "execution_count": 3,
          "metadata": {},
          "output_type": "execute_result"
        }
      ]
    },
    {
      "cell_type": "code",
      "metadata": {
        "id": "Emb86E6O6-zK",
        "outputId": "3367d233-846b-4b6f-e188-0068079903b4"
      },
      "source": [
        "x=bt.iloc[:,0:-1]\n",
        "y=bt.HOUSEPRICE\n",
        "\n",
        "from sklearn.model_selection import train_test_split\n",
        "\n",
        "x_train,x_test,y_train,y_test=train_test_split(x,y,random_state=10)\n",
        "\n",
        "from sklearn.preprocessing import StandardScaler\n",
        "\n",
        "stdSc=StandardScaler()\n",
        "\n",
        "stdSc.fit(x_train)\n",
        "\n",
        "x_train_std=stdSc.transform(x_train)\n",
        "x_test_std=stdSc.transform(x_test)\n",
        "\n",
        "from sklearn.linear_model import LinearRegression\n",
        "\n",
        "linearModel=LinearRegression()\n",
        "linearModel.fit(x_train_std,y_train)\n",
        "print(\"Train Score (Linear):\",linearModel.score(x_train_std,y_train))\n",
        "print(\"Test Score (Linear):\",linearModel.score(x_test_std,y_test))"
      ],
      "execution_count": null,
      "outputs": [
        {
          "name": "stdout",
          "output_type": "stream",
          "text": [
            "Train Score (Linear): 0.7564928215443915\n",
            "Test Score (Linear): 0.6642831400812117\n"
          ]
        }
      ]
    },
    {
      "cell_type": "code",
      "metadata": {
        "id": "lF74WHQU6-zL",
        "outputId": "760ad4fd-cc4b-4ebc-a220-644722246115"
      },
      "source": [
        "print(\"Slopes: \",linearModel.coef_)\n",
        "print(\"Constant: \",linearModel.intercept_)"
      ],
      "execution_count": null,
      "outputs": [
        {
          "name": "stdout",
          "output_type": "stream",
          "text": [
            "Slopes:  [-1.18059014  1.38558866 -0.06221661 -1.78934538  2.35571264  0.35977032\n",
            " -3.12700658  2.68296832 -2.18646957 -1.84423952  1.22452607 -3.86084703]\n",
            "Constant:  21.93377308707124\n"
          ]
        }
      ]
    },
    {
      "cell_type": "code",
      "metadata": {
        "id": "NusrV_sX6-zL",
        "outputId": "4914856b-d8fa-479a-a93a-78885a9f1762"
      },
      "source": [
        "#ridge regression\n",
        "from sklearn.linear_model import Ridge\n",
        "\n",
        "ridgeModel=Ridge(alpha=0.9)\n",
        "ridgeModel.fit(x_train_std,y_train)\n",
        "print(\"Train Score (Ridge):\",ridgeModel.score(x_train_std,y_train))\n",
        "print(\"Test Score (Ridge):\",ridgeModel.score(x_test_std,y_test))"
      ],
      "execution_count": null,
      "outputs": [
        {
          "name": "stdout",
          "output_type": "stream",
          "text": [
            "Train Score (Ridge): 0.7564733187412493\n",
            "Test Score (Ridge): 0.6640322485033605\n"
          ]
        }
      ]
    },
    {
      "cell_type": "code",
      "metadata": {
        "id": "aeIj0z936-zL",
        "outputId": "2c40f6b5-0147-48c8-be8e-c62859e5b2e8"
      },
      "source": [
        "#Lasso regression\n",
        "from sklearn.linear_model import Lasso\n",
        "\n",
        "lassoModel=Lasso(alpha=.9)\n",
        "lassoModel.fit(x_train_std,y_train)\n",
        "print(\"Train Score (Lasso):\",lassoModel.score(x_train_std,y_train))\n",
        "print(\"Test Score (Lasso):\",lassoModel.score(x_test_std,y_test))"
      ],
      "execution_count": null,
      "outputs": [
        {
          "name": "stdout",
          "output_type": "stream",
          "text": [
            "Train Score (Lasso): 0.6834512336189283\n",
            "Test Score (Lasso): 0.6147833391779409\n"
          ]
        }
      ]
    },
    {
      "cell_type": "code",
      "metadata": {
        "id": "bCIpOOFO6-zM",
        "outputId": "d6542992-0d50-42e7-834e-943b6b1dd93e"
      },
      "source": [
        "#ElasticNet regression\n",
        "from sklearn.linear_model import ElasticNet\n",
        "\n",
        "eModel=ElasticNet(alpha=.6)\n",
        "eModel.fit(x_train_std,y_train)\n",
        "print(\"Train Score (ElasticNet):\",eModel.score(x_train_std,y_train))\n",
        "print(\"Test Score (ElasticNet):\",eModel.score(x_test_std,y_test))"
      ],
      "execution_count": null,
      "outputs": [
        {
          "name": "stdout",
          "output_type": "stream",
          "text": [
            "Train Score (ElasticNet): 0.6944559399097265\n",
            "Test Score (ElasticNet): 0.6006213658686839\n"
          ]
        }
      ]
    },
    {
      "cell_type": "code",
      "metadata": {
        "id": "FG0m3xQK6-zM",
        "outputId": "845a89bf-eca3-4f00-f4a6-c6748ffd994e"
      },
      "source": [
        "print(\"############### Slope Value ########### \")\n",
        "print(\"##### Linear #######\")\n",
        "print(linearModel.coef_)\n",
        "\n",
        "print(\"##### Ridge #######\")\n",
        "print(ridgeModel.coef_)\n",
        "\n",
        "print(\"##### Lasso #######\")\n",
        "print(lassoModel.coef_)\n",
        "\n",
        "print(\"##### ElasticNet #######\")\n",
        "print(eModel.coef_)"
      ],
      "execution_count": null,
      "outputs": [
        {
          "name": "stdout",
          "output_type": "stream",
          "text": [
            "############### Slope Value ########### \n",
            "##### Linear #######\n",
            "[-1.18059014  1.38558866 -0.06221661 -1.78934538  2.35571264  0.35977032\n",
            " -3.12700658  2.68296832 -2.18646957 -1.84423952  1.22452607 -3.86084703]\n",
            "##### Ridge #######\n",
            "[-1.16988318  1.36652515 -0.08186193 -1.75757263  2.36973023  0.34836377\n",
            " -3.09303457  2.597799   -2.10926656 -1.83588201  1.22356403 -3.84255057]\n",
            "##### Lasso #######\n",
            "[-0.12829093  0.         -0.         -0.          2.51728465 -0.\n",
            " -0.         -0.         -0.         -1.26234282  0.61945861 -3.47013904]\n",
            "##### ElasticNet #######\n",
            "[-0.54211194  0.38230291 -0.26674641 -0.27309988  2.45137058 -0.\n",
            " -0.47350055 -0.         -0.3392024  -1.30148041  0.82135819 -2.63289013]\n"
          ]
        }
      ]
    },
    {
      "cell_type": "code",
      "metadata": {
        "id": "XW0lNDAH6-zN",
        "outputId": "e18e7a85-e2e7-4404-f815-936923632690"
      },
      "source": [
        "x_train.columns"
      ],
      "execution_count": null,
      "outputs": [
        {
          "data": {
            "text/plain": [
              "Index(['CRIM', 'ZN', 'INDUS', 'NOX', 'RM', 'AGE', 'DIS', 'RAD', 'TAX',\n",
              "       'PTRATIO', 'B', 'LSTAT'],\n",
              "      dtype='object')"
            ]
          },
          "execution_count": 39,
          "metadata": {},
          "output_type": "execute_result"
        }
      ]
    },
    {
      "cell_type": "code",
      "metadata": {
        "id": "js7s-LGh6-zN",
        "outputId": "2745ec0a-cc7a-4587-925a-5528d3611f52"
      },
      "source": [
        "#Lasso regression\n",
        "from sklearn.linear_model import Lasso\n",
        "\n",
        "lassoModel1=Lasso(alpha=.9)\n",
        "lassoModel1.fit(x_train_std,y_train)\n",
        "print(\"Train Score (Lasso):\",lassoModel1.score(x_train_std,y_train))\n",
        "print(\"Test Score (Lasso):\",lassoModel1.score(x_test_std,y_test))\n",
        "print(\"Slopes:\",lassoModel1.coef_)"
      ],
      "execution_count": null,
      "outputs": [
        {
          "name": "stdout",
          "output_type": "stream",
          "text": [
            "Train Score (Lasso): 0.6834512336189283\n",
            "Test Score (Lasso): 0.6147833391779409\n",
            "Slopes: [-0.12829093  0.         -0.         -0.          2.51728465 -0.\n",
            " -0.         -0.         -0.         -1.26234282  0.61945861 -3.47013904]\n"
          ]
        }
      ]
    },
    {
      "cell_type": "code",
      "metadata": {
        "id": "ZRn6pjH16-zO",
        "outputId": "eaeb9d2a-5270-4740-d97c-aa3241d2919e"
      },
      "source": [
        "#Lasso regression\n",
        "from sklearn.linear_model import Lasso\n",
        "\n",
        "lassoModel2=Lasso(alpha=.3)\n",
        "lassoModel2.fit(x_train_std,y_train)\n",
        "print(\"Train Score (Lasso):\",lassoModel2.score(x_train_std,y_train))\n",
        "print(\"Test Score (Lasso):\",lassoModel2.score(x_test_std,y_test))\n",
        "print(\"Slopes:\",lassoModel2.coef_)"
      ],
      "execution_count": null,
      "outputs": [
        {
          "name": "stdout",
          "output_type": "stream",
          "text": [
            "Train Score (Lasso): 0.7253732750417403\n",
            "Test Score (Lasso): 0.6410946505928552\n",
            "Slopes: [-0.53027842  0.39106075 -0.         -0.3597845   2.79246932 -0.\n",
            " -1.073687    0.         -0.03648372 -1.53187487  1.04521298 -3.65538601]\n"
          ]
        }
      ]
    },
    {
      "cell_type": "code",
      "metadata": {
        "id": "hN5OV68z6-zO"
      },
      "source": [
        "#building amodel with only two features, later we will transform into polynomial features of dgree 2\n",
        "\n",
        "x_input=x[['CRIM','ZN']]"
      ],
      "execution_count": null,
      "outputs": []
    },
    {
      "cell_type": "code",
      "metadata": {
        "id": "O5RtDJr36-zO"
      },
      "source": [
        "y_output=y"
      ],
      "execution_count": null,
      "outputs": []
    },
    {
      "cell_type": "code",
      "metadata": {
        "id": "JbSH_Oyp6-zO",
        "outputId": "49d5cd50-75de-42f0-86b1-027d9c39d314"
      },
      "source": [
        "x_train_i,x_test_i,y_train_o,y_test_o=train_test_split(x_input,y_output,random_state=10)\n",
        "\n",
        "from sklearn.preprocessing import StandardScaler\n",
        "\n",
        "stdSc=StandardScaler()\n",
        "\n",
        "stdSc.fit(x_train_i)\n",
        "\n",
        "x_train_i_std=stdSc.transform(x_train_i)\n",
        "x_test_i_std=stdSc.transform(x_test_i)\n",
        "\n",
        "from sklearn.linear_model import LinearRegression\n",
        "\n",
        "linearModel=LinearRegression()\n",
        "linearModel.fit(x_train_i_std,y_train_o)\n",
        "print(\"Train Score (Linear):\",linearModel.score(x_train_i_std,y_train_o))\n",
        "print(\"Test Score (Linear):\",linearModel.score(x_test_i_std,y_test_o))"
      ],
      "execution_count": null,
      "outputs": [
        {
          "name": "stdout",
          "output_type": "stream",
          "text": [
            "Train Score (Linear): 0.28031526349162506\n",
            "Test Score (Linear): 0.07078237668853993\n"
          ]
        }
      ]
    },
    {
      "cell_type": "code",
      "metadata": {
        "id": "lhD6ZWaC6-zP"
      },
      "source": [
        "#polynomial features\n",
        "from sklearn.preprocessing import PolynomialFeatures"
      ],
      "execution_count": null,
      "outputs": []
    },
    {
      "cell_type": "code",
      "metadata": {
        "id": "yCjcZmKQ6-zP"
      },
      "source": [
        "x_poly=PolynomialFeatures(degree=2).fit_transform(x_input)"
      ],
      "execution_count": null,
      "outputs": []
    },
    {
      "cell_type": "code",
      "metadata": {
        "id": "bfn9FjIR6-zP",
        "outputId": "b9a11322-db7f-4689-8761-43e53605bc89"
      },
      "source": [
        "x_input.head()"
      ],
      "execution_count": null,
      "outputs": [
        {
          "data": {
            "text/html": [
              "<div>\n",
              "<style scoped>\n",
              "    .dataframe tbody tr th:only-of-type {\n",
              "        vertical-align: middle;\n",
              "    }\n",
              "\n",
              "    .dataframe tbody tr th {\n",
              "        vertical-align: top;\n",
              "    }\n",
              "\n",
              "    .dataframe thead th {\n",
              "        text-align: right;\n",
              "    }\n",
              "</style>\n",
              "<table border=\"1\" class=\"dataframe\">\n",
              "  <thead>\n",
              "    <tr style=\"text-align: right;\">\n",
              "      <th></th>\n",
              "      <th>CRIM</th>\n",
              "      <th>ZN</th>\n",
              "    </tr>\n",
              "  </thead>\n",
              "  <tbody>\n",
              "    <tr>\n",
              "      <th>0</th>\n",
              "      <td>0.00632</td>\n",
              "      <td>18.0</td>\n",
              "    </tr>\n",
              "    <tr>\n",
              "      <th>1</th>\n",
              "      <td>0.02731</td>\n",
              "      <td>0.0</td>\n",
              "    </tr>\n",
              "    <tr>\n",
              "      <th>2</th>\n",
              "      <td>0.02729</td>\n",
              "      <td>0.0</td>\n",
              "    </tr>\n",
              "    <tr>\n",
              "      <th>3</th>\n",
              "      <td>0.03237</td>\n",
              "      <td>0.0</td>\n",
              "    </tr>\n",
              "    <tr>\n",
              "      <th>4</th>\n",
              "      <td>0.06905</td>\n",
              "      <td>0.0</td>\n",
              "    </tr>\n",
              "  </tbody>\n",
              "</table>\n",
              "</div>"
            ],
            "text/plain": [
              "      CRIM    ZN\n",
              "0  0.00632  18.0\n",
              "1  0.02731   0.0\n",
              "2  0.02729   0.0\n",
              "3  0.03237   0.0\n",
              "4  0.06905   0.0"
            ]
          },
          "execution_count": 47,
          "metadata": {},
          "output_type": "execute_result"
        }
      ]
    },
    {
      "cell_type": "code",
      "metadata": {
        "id": "pJPfBlF76-zP",
        "outputId": "4fc97979-35c3-4822-a778-5ee3ac1f063e"
      },
      "source": [
        "pd.DataFrame(x_poly)"
      ],
      "execution_count": null,
      "outputs": [
        {
          "data": {
            "text/html": [
              "<div>\n",
              "<style scoped>\n",
              "    .dataframe tbody tr th:only-of-type {\n",
              "        vertical-align: middle;\n",
              "    }\n",
              "\n",
              "    .dataframe tbody tr th {\n",
              "        vertical-align: top;\n",
              "    }\n",
              "\n",
              "    .dataframe thead th {\n",
              "        text-align: right;\n",
              "    }\n",
              "</style>\n",
              "<table border=\"1\" class=\"dataframe\">\n",
              "  <thead>\n",
              "    <tr style=\"text-align: right;\">\n",
              "      <th></th>\n",
              "      <th>0</th>\n",
              "      <th>1</th>\n",
              "      <th>2</th>\n",
              "      <th>3</th>\n",
              "      <th>4</th>\n",
              "      <th>5</th>\n",
              "    </tr>\n",
              "  </thead>\n",
              "  <tbody>\n",
              "    <tr>\n",
              "      <th>0</th>\n",
              "      <td>1.0</td>\n",
              "      <td>0.00632</td>\n",
              "      <td>18.0</td>\n",
              "      <td>0.000040</td>\n",
              "      <td>0.11376</td>\n",
              "      <td>324.0</td>\n",
              "    </tr>\n",
              "    <tr>\n",
              "      <th>1</th>\n",
              "      <td>1.0</td>\n",
              "      <td>0.02731</td>\n",
              "      <td>0.0</td>\n",
              "      <td>0.000746</td>\n",
              "      <td>0.00000</td>\n",
              "      <td>0.0</td>\n",
              "    </tr>\n",
              "    <tr>\n",
              "      <th>2</th>\n",
              "      <td>1.0</td>\n",
              "      <td>0.02729</td>\n",
              "      <td>0.0</td>\n",
              "      <td>0.000745</td>\n",
              "      <td>0.00000</td>\n",
              "      <td>0.0</td>\n",
              "    </tr>\n",
              "    <tr>\n",
              "      <th>3</th>\n",
              "      <td>1.0</td>\n",
              "      <td>0.03237</td>\n",
              "      <td>0.0</td>\n",
              "      <td>0.001048</td>\n",
              "      <td>0.00000</td>\n",
              "      <td>0.0</td>\n",
              "    </tr>\n",
              "    <tr>\n",
              "      <th>4</th>\n",
              "      <td>1.0</td>\n",
              "      <td>0.06905</td>\n",
              "      <td>0.0</td>\n",
              "      <td>0.004768</td>\n",
              "      <td>0.00000</td>\n",
              "      <td>0.0</td>\n",
              "    </tr>\n",
              "    <tr>\n",
              "      <th>...</th>\n",
              "      <td>...</td>\n",
              "      <td>...</td>\n",
              "      <td>...</td>\n",
              "      <td>...</td>\n",
              "      <td>...</td>\n",
              "      <td>...</td>\n",
              "    </tr>\n",
              "    <tr>\n",
              "      <th>501</th>\n",
              "      <td>1.0</td>\n",
              "      <td>0.06263</td>\n",
              "      <td>0.0</td>\n",
              "      <td>0.003923</td>\n",
              "      <td>0.00000</td>\n",
              "      <td>0.0</td>\n",
              "    </tr>\n",
              "    <tr>\n",
              "      <th>502</th>\n",
              "      <td>1.0</td>\n",
              "      <td>0.04527</td>\n",
              "      <td>0.0</td>\n",
              "      <td>0.002049</td>\n",
              "      <td>0.00000</td>\n",
              "      <td>0.0</td>\n",
              "    </tr>\n",
              "    <tr>\n",
              "      <th>503</th>\n",
              "      <td>1.0</td>\n",
              "      <td>0.06076</td>\n",
              "      <td>0.0</td>\n",
              "      <td>0.003692</td>\n",
              "      <td>0.00000</td>\n",
              "      <td>0.0</td>\n",
              "    </tr>\n",
              "    <tr>\n",
              "      <th>504</th>\n",
              "      <td>1.0</td>\n",
              "      <td>0.10959</td>\n",
              "      <td>0.0</td>\n",
              "      <td>0.012010</td>\n",
              "      <td>0.00000</td>\n",
              "      <td>0.0</td>\n",
              "    </tr>\n",
              "    <tr>\n",
              "      <th>505</th>\n",
              "      <td>1.0</td>\n",
              "      <td>0.04741</td>\n",
              "      <td>0.0</td>\n",
              "      <td>0.002248</td>\n",
              "      <td>0.00000</td>\n",
              "      <td>0.0</td>\n",
              "    </tr>\n",
              "  </tbody>\n",
              "</table>\n",
              "<p>506 rows × 6 columns</p>\n",
              "</div>"
            ],
            "text/plain": [
              "       0        1     2         3        4      5\n",
              "0    1.0  0.00632  18.0  0.000040  0.11376  324.0\n",
              "1    1.0  0.02731   0.0  0.000746  0.00000    0.0\n",
              "2    1.0  0.02729   0.0  0.000745  0.00000    0.0\n",
              "3    1.0  0.03237   0.0  0.001048  0.00000    0.0\n",
              "4    1.0  0.06905   0.0  0.004768  0.00000    0.0\n",
              "..   ...      ...   ...       ...      ...    ...\n",
              "501  1.0  0.06263   0.0  0.003923  0.00000    0.0\n",
              "502  1.0  0.04527   0.0  0.002049  0.00000    0.0\n",
              "503  1.0  0.06076   0.0  0.003692  0.00000    0.0\n",
              "504  1.0  0.10959   0.0  0.012010  0.00000    0.0\n",
              "505  1.0  0.04741   0.0  0.002248  0.00000    0.0\n",
              "\n",
              "[506 rows x 6 columns]"
            ]
          },
          "execution_count": 48,
          "metadata": {},
          "output_type": "execute_result"
        }
      ]
    },
    {
      "cell_type": "code",
      "metadata": {
        "id": "TeCOawqS6-zP",
        "outputId": "06cb3fa1-66e2-41f0-fa88-0ef1db4c3a81"
      },
      "source": [
        "x_train_i,x_test_i,y_train_o,y_test_o=train_test_split(x_poly,y_output,random_state=10)\n",
        "\n",
        "from sklearn.preprocessing import StandardScaler\n",
        "\n",
        "stdSc=StandardScaler()\n",
        "\n",
        "stdSc.fit(x_train_i)\n",
        "\n",
        "x_train_i_std=stdSc.transform(x_train_i)\n",
        "x_test_i_std=stdSc.transform(x_test_i)\n",
        "\n",
        "from sklearn.linear_model import LinearRegression\n",
        "\n",
        "linearModel=LinearRegression()\n",
        "linearModel.fit(x_train_i_std,y_train_o)\n",
        "print(\"Train Score (Linear):\",linearModel.score(x_train_i_std,y_train_o))\n",
        "print(\"Test Score (Linear):\",linearModel.score(x_test_i_std,y_test_o))"
      ],
      "execution_count": null,
      "outputs": [
        {
          "name": "stdout",
          "output_type": "stream",
          "text": [
            "Train Score (Linear): 0.3463220014762507\n",
            "Test Score (Linear): 0.1413640386933226\n"
          ]
        }
      ]
    },
    {
      "cell_type": "code",
      "metadata": {
        "id": "y_-Az_ar6-zQ",
        "outputId": "691ac596-0795-4ce7-b2d5-0a172f5d5479"
      },
      "source": [
        "x_input"
      ],
      "execution_count": null,
      "outputs": [
        {
          "data": {
            "text/html": [
              "<div>\n",
              "<style scoped>\n",
              "    .dataframe tbody tr th:only-of-type {\n",
              "        vertical-align: middle;\n",
              "    }\n",
              "\n",
              "    .dataframe tbody tr th {\n",
              "        vertical-align: top;\n",
              "    }\n",
              "\n",
              "    .dataframe thead th {\n",
              "        text-align: right;\n",
              "    }\n",
              "</style>\n",
              "<table border=\"1\" class=\"dataframe\">\n",
              "  <thead>\n",
              "    <tr style=\"text-align: right;\">\n",
              "      <th></th>\n",
              "      <th>CRIM</th>\n",
              "      <th>ZN</th>\n",
              "    </tr>\n",
              "  </thead>\n",
              "  <tbody>\n",
              "    <tr>\n",
              "      <th>0</th>\n",
              "      <td>0.00632</td>\n",
              "      <td>18.0</td>\n",
              "    </tr>\n",
              "    <tr>\n",
              "      <th>1</th>\n",
              "      <td>0.02731</td>\n",
              "      <td>0.0</td>\n",
              "    </tr>\n",
              "    <tr>\n",
              "      <th>2</th>\n",
              "      <td>0.02729</td>\n",
              "      <td>0.0</td>\n",
              "    </tr>\n",
              "    <tr>\n",
              "      <th>3</th>\n",
              "      <td>0.03237</td>\n",
              "      <td>0.0</td>\n",
              "    </tr>\n",
              "    <tr>\n",
              "      <th>4</th>\n",
              "      <td>0.06905</td>\n",
              "      <td>0.0</td>\n",
              "    </tr>\n",
              "    <tr>\n",
              "      <th>...</th>\n",
              "      <td>...</td>\n",
              "      <td>...</td>\n",
              "    </tr>\n",
              "    <tr>\n",
              "      <th>501</th>\n",
              "      <td>0.06263</td>\n",
              "      <td>0.0</td>\n",
              "    </tr>\n",
              "    <tr>\n",
              "      <th>502</th>\n",
              "      <td>0.04527</td>\n",
              "      <td>0.0</td>\n",
              "    </tr>\n",
              "    <tr>\n",
              "      <th>503</th>\n",
              "      <td>0.06076</td>\n",
              "      <td>0.0</td>\n",
              "    </tr>\n",
              "    <tr>\n",
              "      <th>504</th>\n",
              "      <td>0.10959</td>\n",
              "      <td>0.0</td>\n",
              "    </tr>\n",
              "    <tr>\n",
              "      <th>505</th>\n",
              "      <td>0.04741</td>\n",
              "      <td>0.0</td>\n",
              "    </tr>\n",
              "  </tbody>\n",
              "</table>\n",
              "<p>506 rows × 2 columns</p>\n",
              "</div>"
            ],
            "text/plain": [
              "        CRIM    ZN\n",
              "0    0.00632  18.0\n",
              "1    0.02731   0.0\n",
              "2    0.02729   0.0\n",
              "3    0.03237   0.0\n",
              "4    0.06905   0.0\n",
              "..       ...   ...\n",
              "501  0.06263   0.0\n",
              "502  0.04527   0.0\n",
              "503  0.06076   0.0\n",
              "504  0.10959   0.0\n",
              "505  0.04741   0.0\n",
              "\n",
              "[506 rows x 2 columns]"
            ]
          },
          "execution_count": 50,
          "metadata": {},
          "output_type": "execute_result"
        }
      ]
    },
    {
      "cell_type": "code",
      "metadata": {
        "id": "1YKZM18N6-zQ"
      },
      "source": [
        ""
      ],
      "execution_count": null,
      "outputs": []
    }
  ]
}